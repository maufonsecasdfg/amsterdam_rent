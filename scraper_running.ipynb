{
 "cells": [
  {
   "cell_type": "code",
   "execution_count": 1,
   "id": "0d25154b",
   "metadata": {},
   "outputs": [],
   "source": [
    "from scraper import Scraper\n",
    "import pandas as pd\n",
    "import httpx\n",
    "from bs4 import BeautifulSoup\n",
    "from random import random, randint\n",
    "import time\n",
    "import pandas as pd\n",
    "from datetime import date"
   ]
  },
  {
   "cell_type": "code",
   "execution_count": 2,
   "id": "bf7acc7f",
   "metadata": {},
   "outputs": [],
   "source": [
    "s = Scraper()"
   ]
  },
  {
   "cell_type": "code",
   "execution_count": 3,
   "id": "3ca8aebb",
   "metadata": {},
   "outputs": [],
   "source": [
    "cities = ['amsterdam']\n",
    "#sites = ['pararius','funda','kamernet']\n",
    "#sites = ['kamernet']\n",
    "sites = ['pararius']\n",
    "postTypes = ['Buy','Rent']"
   ]
  },
  {
   "cell_type": "code",
   "execution_count": 4,
   "id": "d4329664",
   "metadata": {
    "scrolled": true
   },
   "outputs": [
    {
     "name": "stdout",
     "output_type": "stream",
     "text": [
      "Running Site: pararius\n",
      "    Running post types: Buy\n",
      "        Running city: amsterdam\n",
      "            Running property type: appartement\n",
      "            Page: 1\n",
      "            Page: 2\n",
      "            Page: 3\n",
      "            Page: 4\n",
      "            Page: 5\n"
     ]
    },
    {
     "ename": "KeyboardInterrupt",
     "evalue": "",
     "output_type": "error",
     "traceback": [
      "\u001b[0;31m---------------------------------------------------------------------------\u001b[0m",
      "\u001b[0;31mKeyboardInterrupt\u001b[0m                         Traceback (most recent call last)",
      "Cell \u001b[0;32mIn[4], line 1\u001b[0m\n\u001b[0;32m----> 1\u001b[0m s\u001b[38;5;241m.\u001b[39mrun(cities,sites,postTypes,\u001b[38;5;241m10000\u001b[39m)\n",
      "File \u001b[0;32m~/Documents/code/amsterdam_rent/scraper.py:312\u001b[0m, in \u001b[0;36mScraper.run\u001b[0;34m(self, cities, sites, postTypes, max_pages)\u001b[0m\n\u001b[1;32m    310\u001b[0m \u001b[38;5;28;01mfor\u001b[39;00m city \u001b[38;5;129;01min\u001b[39;00m cities:\n\u001b[1;32m    311\u001b[0m     \u001b[38;5;28mprint\u001b[39m(\u001b[38;5;124mf\u001b[39m\u001b[38;5;124m'\u001b[39m\u001b[38;5;124m        Running city: \u001b[39m\u001b[38;5;132;01m{\u001b[39;00mcity\u001b[38;5;132;01m}\u001b[39;00m\u001b[38;5;124m'\u001b[39m)\n\u001b[0;32m--> 312\u001b[0m     \u001b[38;5;28mself\u001b[39m\u001b[38;5;241m.\u001b[39mscrape(city, site, postType, max_pages)\n",
      "File \u001b[0;32m~/Documents/code/amsterdam_rent/scraper.py:120\u001b[0m, in \u001b[0;36mScraper.scrape\u001b[0;34m(self, city, site, postType, max_pages)\u001b[0m\n\u001b[1;32m    118\u001b[0m     df \u001b[38;5;241m=\u001b[39m pd\u001b[38;5;241m.\u001b[39mDataFrame(data)\n\u001b[1;32m    119\u001b[0m     \u001b[38;5;28mself\u001b[39m\u001b[38;5;241m.\u001b[39mproperties \u001b[38;5;241m=\u001b[39m pd\u001b[38;5;241m.\u001b[39mconcat([\u001b[38;5;28mself\u001b[39m\u001b[38;5;241m.\u001b[39mproperties,df])\u001b[38;5;241m.\u001b[39mreset_index(drop\u001b[38;5;241m=\u001b[39m\u001b[38;5;28;01mTrue\u001b[39;00m)\n\u001b[0;32m--> 120\u001b[0m     time\u001b[38;5;241m.\u001b[39msleep(\u001b[38;5;241m1\u001b[39m \u001b[38;5;241m+\u001b[39m \u001b[38;5;241m5\u001b[39m\u001b[38;5;241m*\u001b[39mrandom())\n\u001b[1;32m    121\u001b[0m     page \u001b[38;5;241m+\u001b[39m\u001b[38;5;241m=\u001b[39m \u001b[38;5;241m1\u001b[39m\n\u001b[1;32m    122\u001b[0m \u001b[38;5;28;01melse\u001b[39;00m:\n",
      "\u001b[0;31mKeyboardInterrupt\u001b[0m: "
     ]
    }
   ],
   "source": [
    "s.run(cities,sites,postTypes,10000)"
   ]
  },
  {
   "cell_type": "code",
   "execution_count": 58,
   "id": "0415ce9b",
   "metadata": {},
   "outputs": [
    {
     "data": {
      "text/plain": [
       "['https://www.pararius.nl/appartement-te-koop/amsterdam/dc556e18/akersingel',\n",
       " 'https://www.pararius.nl/appartement-te-koop/amsterdam/0c02681d/brouwersgracht',\n",
       " 'https://www.pararius.nl/appartement-te-koop/amsterdam/a1c9cd9f/laurierstraat',\n",
       " 'https://www.pararius.nl/appartement-te-koop/amsterdam/837286f1/bilderdijkpark',\n",
       " 'https://www.pararius.nl/appartement-te-koop/amsterdam/0fdfe24e/tolstraat',\n",
       " 'https://www.pararius.nl/appartement-te-koop/amsterdam/aba1f253/schovenstraat',\n",
       " 'https://www.pararius.nl/appartement-te-koop/amsterdam/912045de/de-kempenaerstraat',\n",
       " 'https://www.pararius.nl/appartement-te-koop/amsterdam/46c85613/baffinstraat',\n",
       " 'https://www.pararius.nl/appartement-te-koop/amsterdam/4d9060e6/bloemstraat',\n",
       " 'https://www.pararius.nl/appartement-te-koop/amsterdam/c6886a2e/h-diesveldsingel',\n",
       " 'https://www.pararius.nl/appartement-te-koop/amsterdam/69b6f950/duke-ellingtonstraat',\n",
       " 'https://www.pararius.nl/appartement-te-koop/amsterdam/75f68bd3/h-gerhardstraat',\n",
       " 'https://www.pararius.nl/appartement-te-koop/amsterdam/6817d367/gillis-van-ledenberchstraat',\n",
       " 'https://www.pararius.nl/appartement-te-koop/amsterdam/556c2414/admiralengracht',\n",
       " 'https://www.pararius.nl/appartement-te-koop/amsterdam/b3002643/alkmaarstraat',\n",
       " 'https://www.pararius.nl/appartement-te-koop/amsterdam/c9b59557/bos-en-lommerweg',\n",
       " 'https://www.pararius.nl/appartement-te-koop/amsterdam/0604f6cd/revaleiland',\n",
       " 'https://www.pararius.nl/appartement-te-koop/amsterdam/424ae191/amstelkade',\n",
       " 'https://www.pararius.nl/appartement-te-koop/amsterdam/f2e89ce7/cornelis-trooststraat',\n",
       " 'https://www.pararius.nl/appartement-te-koop/amsterdam/b3cf13c5/esmoreitstraat',\n",
       " 'https://www.pararius.nl/appartement-te-koop/amsterdam/b2f804ff/achtersteven',\n",
       " 'https://www.pararius.nl/appartement-te-koop/amsterdam/bd5ab020/van-hogendorpstraat',\n",
       " 'https://www.pararius.nl/appartement-te-koop/amsterdam/48845116/gouden-leeuw',\n",
       " 'https://www.pararius.nl/appartement-te-koop/amsterdam/153a994b/tweede-kostverlorenkade',\n",
       " 'https://www.pararius.nl/appartement-te-koop/amsterdam/c11f6fbc/fred-roeskestraat',\n",
       " 'https://www.pararius.nl/appartement-te-koop/amsterdam/f33062b3/van-woustraat',\n",
       " 'https://www.pararius.nl/appartement-te-koop/amsterdam/fee2b5fd/singel',\n",
       " 'https://www.pararius.nl/appartement-te-koop/amsterdam/99688b27/wijttenbachstraat',\n",
       " 'https://www.pararius.nl/appartement-te-koop/amsterdam/5b4419ea/jacques-oppenheimstraat',\n",
       " 'https://www.pararius.nl/appartement-te-koop/amsterdam/f2ce9498/filips-van-almondestraat',\n",
       " 'https://www.pararius.nl/appartement-te-koop/amsterdam/432b922b/jan-den-haenstraat',\n",
       " 'https://www.pararius.nl/appartement-te-koop/amsterdam/24144c18/lootsstraat',\n",
       " 'https://www.pararius.nl/appartement-te-koop/amsterdam/6eb2acbf/hogevecht',\n",
       " 'https://www.pararius.nl/appartement-te-koop/amsterdam/b3a31b0c/marnixstraat',\n",
       " 'https://www.pararius.nl/appartement-te-koop/amsterdam/988da115/zeilstraat',\n",
       " 'https://www.pararius.nl/appartement-te-koop/amsterdam/f61ec49b/westerstraat',\n",
       " 'https://www.pararius.nl/appartement-te-koop/amsterdam/f325ed0b/van-ostadestraat',\n",
       " 'https://www.pararius.nl/appartement-te-koop/amsterdam/00a6f442/van-ostadestraat',\n",
       " 'https://www.pararius.nl/appartement-te-koop/amsterdam/911c95b3/amstel',\n",
       " 'https://www.pararius.nl/appartement-te-koop/amsterdam/0237e338/bilderdijkkade',\n",
       " 'https://www.pararius.nl/appartement-te-koop/amsterdam/d54f440c/daniel-stalpertstraat',\n",
       " 'https://www.pararius.nl/appartement-te-koop/amsterdam/664369ac/leimuidenstraat',\n",
       " 'https://www.pararius.nl/appartement-te-koop/amsterdam/cd463179/burgemeester-hogguerstraat',\n",
       " 'https://www.pararius.nl/appartement-te-koop/amsterdam/976f510a/czaar-peterstraat',\n",
       " 'https://www.pararius.nl/appartement-te-koop/amsterdam/7443f51e/uiterwaardenstraat',\n",
       " 'https://www.pararius.nl/appartement-te-koop/amsterdam/b610dab7/zocherstraat',\n",
       " 'https://www.pararius.nl/appartement-te-koop/amsterdam/804870c5/j-c-van-epenstraat',\n",
       " 'https://www.pararius.nl/appartement-te-koop/amsterdam/515789e2/admiraal-de-ruijterweg',\n",
       " 'https://www.pararius.nl/appartement-te-koop/amsterdam/d6c147fa/bruins-slotstraat',\n",
       " 'https://www.pararius.nl/appartement-te-koop/amsterdam/63d0025a/eastonstraat',\n",
       " 'https://www.pararius.nl/appartement-te-koop/amsterdam/23118e77/agamemnonstraat',\n",
       " 'https://www.pararius.nl/appartement-te-koop/amsterdam/df14a9bf/stadionweg',\n",
       " 'https://www.pararius.nl/appartement-te-koop/amsterdam/48e72da5/houtrijkstraat',\n",
       " 'https://www.pararius.nl/appartement-te-koop/amsterdam/5616ba0d/knollendamstraat',\n",
       " 'https://www.pararius.nl/appartement-te-koop/amsterdam/401aad1f/weteringschans',\n",
       " 'https://www.pararius.nl/appartement-te-koop/amsterdam/a496dbec/gorontalostraat',\n",
       " 'https://www.pararius.nl/appartement-te-koop/amsterdam/0e3c8f98/overtoom',\n",
       " 'https://www.pararius.nl/appartement-te-koop/amsterdam/fb1339a3/honselersdijkstraat',\n",
       " 'https://www.pararius.nl/appartement-te-koop/amsterdam/d4ff1e04/marco-polostraat',\n",
       " 'https://www.pararius.nl/appartement-te-koop/amsterdam/470ea37d/ceintuurbaan',\n",
       " 'https://www.pararius.nl/appartement-te-koop/amsterdam/de58332f/het-breed',\n",
       " 'https://www.pararius.nl/appartement-te-koop/amsterdam/a47b8899/haag-en-veld',\n",
       " 'https://www.pararius.nl/appartement-te-koop/amsterdam/18d9adbf/johannes-van-der-waalsstraat',\n",
       " 'https://www.pararius.nl/appartement-te-koop/amsterdam/2231ff8f/hoofdweg',\n",
       " 'https://www.pararius.nl/appartement-te-koop/amsterdam/8a324106/marcantilaan',\n",
       " 'https://www.pararius.nl/appartement-te-koop/amsterdam/97d2671f/ijburglaan',\n",
       " 'https://www.pararius.nl/appartement-te-koop/amsterdam/49bca9e8/sean-macbridestraat',\n",
       " 'https://www.pararius.nl/appartement-te-koop/amsterdam/20341af7/langswater',\n",
       " 'https://www.pararius.nl/appartement-te-koop/amsterdam/ed50b8c9/ijburglaan',\n",
       " 'https://www.pararius.nl/appartement-te-koop/amsterdam/48ba6dac/curacaostraat',\n",
       " 'https://www.pararius.nl/appartement-te-koop/amsterdam/1475ff46/lodewijk-tripstraat',\n",
       " 'https://www.pararius.nl/appartement-te-koop/amsterdam/6f14a250/bella-vistastraat',\n",
       " 'https://www.pararius.nl/appartement-te-koop/amsterdam/b1b66ae4/jan-van-riebeekstraat',\n",
       " 'https://www.pararius.nl/appartement-te-koop/amsterdam/657b2f9f/overtoom',\n",
       " 'https://www.pararius.nl/appartement-te-koop/amsterdam/3c30b23c/fleerde',\n",
       " 'https://www.pararius.nl/appartement-te-koop/amsterdam/8580bf33/keizersgracht',\n",
       " 'https://www.pararius.nl/appartement-te-koop/amsterdam/39a41db9/pontsteiger',\n",
       " 'https://www.pararius.nl/appartement-te-koop/amsterdam/08690024/zuid-hollandstraat',\n",
       " 'https://www.pararius.nl/appartement-te-koop/amsterdam/792e7401/van-ostadestraat',\n",
       " 'https://www.pararius.nl/appartement-te-koop/amsterdam/ef170127/nachtwachtlaan',\n",
       " 'https://www.pararius.nl/appartement-te-koop/amsterdam/b1298efa/dirk-bonsstraat',\n",
       " 'https://www.pararius.nl/appartement-te-koop/amsterdam/f92993a4/leidsekruisstraat',\n",
       " 'https://www.pararius.nl/appartement-te-koop/amsterdam/fb8e1159/leidsekruisstraat',\n",
       " 'https://www.pararius.nl/appartement-te-koop/amsterdam/0dc46300/vrijzicht',\n",
       " 'https://www.pararius.nl/appartement-te-koop/amsterdam/e1618ace/dalsteindreef',\n",
       " 'https://www.pararius.nl/appartement-te-koop/amsterdam/e953201b/eerste-oosterparkstraat',\n",
       " 'https://www.pararius.nl/appartement-te-koop/amsterdam/8d9f9476/voetboogstraat',\n",
       " 'https://www.pararius.nl/appartement-te-koop/amsterdam/b364efb2/voetboogstraat',\n",
       " 'https://www.pararius.nl/appartement-te-koop/amsterdam/55ac293c/singel',\n",
       " 'https://www.pararius.nl/appartement-te-koop/amsterdam/8ef93575/heemstedestraat',\n",
       " 'https://www.pararius.nl/appartement-te-koop/amsterdam/5e14f294/herengracht',\n",
       " 'https://www.pararius.nl/appartement-te-koop/amsterdam/3dd40bf4/gouden-leeuw',\n",
       " 'https://www.pararius.nl/appartement-te-koop/amsterdam/505ac680/ijsselmeerstraat',\n",
       " 'https://www.pararius.nl/appartement-te-koop/amsterdam/daeae29d/gerard-doustraat',\n",
       " 'https://www.pararius.nl/appartement-te-koop/amsterdam/cad3aefe/zocherstraat',\n",
       " 'https://www.pararius.nl/appartement-te-koop/amsterdam/e4b43944/zocherstraat',\n",
       " 'https://www.pararius.nl/appartement-te-koop/amsterdam/749ccd6a/zocherstraat',\n",
       " 'https://www.pararius.nl/appartement-te-koop/amsterdam/4b1701f5/kanaalstraat',\n",
       " 'https://www.pararius.nl/appartement-te-koop/amsterdam/b85b4b97/eksterstraat',\n",
       " 'https://www.pararius.nl/appartement-te-koop/amsterdam/fdface89/nassaukade',\n",
       " 'https://www.pararius.nl/appartement-te-koop/amsterdam/4936eb15/de-boelelaan',\n",
       " 'https://www.pararius.nl/appartement-te-koop/amsterdam/477447fe/spinozastraat',\n",
       " 'https://www.pararius.nl/appartement-te-koop/amsterdam/74ec84b4/omval',\n",
       " 'https://www.pararius.nl/appartement-te-koop/amsterdam/0b7cd340/spuistraat',\n",
       " 'https://www.pararius.nl/appartement-te-koop/amsterdam/0ea47d0c/chestertonlaan',\n",
       " 'https://www.pararius.nl/appartement-te-koop/amsterdam/294110ad/laurierstraat',\n",
       " 'https://www.pararius.nl/appartement-te-koop/amsterdam/335c6eec/oostzaanstraat',\n",
       " 'https://www.pararius.nl/appartement-te-koop/amsterdam/89e1e7a6/niersstraat',\n",
       " 'https://www.pararius.nl/appartement-te-koop/amsterdam/2e0a8631/erich-salomonstraat',\n",
       " 'https://www.pararius.nl/appartement-te-koop/amsterdam/29a2dced/haparandaweg',\n",
       " 'https://www.pararius.nl/appartement-te-koop/amsterdam/d9c4688a/albert-cuypstraat',\n",
       " 'https://www.pararius.nl/appartement-te-koop/amsterdam/caec6b24/transvaalstraat',\n",
       " 'https://www.pararius.nl/appartement-te-koop/amsterdam/524946c8/dijkmeerlaan',\n",
       " 'https://www.pararius.nl/appartement-te-koop/amsterdam/4781a32b/buiten-bantammerstraat',\n",
       " 'https://www.pararius.nl/appartement-te-koop/amsterdam/21aa3028/karel-klinkenbergstraat',\n",
       " 'https://www.pararius.nl/appartement-te-koop/amsterdam/bfee8b0a/geuzenstraat',\n",
       " 'https://www.pararius.nl/appartement-te-koop/amsterdam/b4c7040b/kijkduinstraat',\n",
       " 'https://www.pararius.nl/appartement-te-koop/amsterdam/77d26dea/govert-flinckstraat',\n",
       " 'https://www.pararius.nl/appartement-te-koop/amsterdam/de278b4b/groenmarktkade',\n",
       " 'https://www.pararius.nl/appartement-te-koop/amsterdam/67e4a694/het-hoogt',\n",
       " 'https://www.pararius.nl/appartement-te-koop/amsterdam/f89af7c9/akersingel',\n",
       " 'https://www.pararius.nl/appartement-te-koop/amsterdam/abe57bd0/valkenburgerstraat',\n",
       " 'https://www.pararius.nl/appartement-te-koop/amsterdam/091372cd/eerste-schinkelstraat',\n",
       " 'https://www.pararius.nl/appartement-te-koop/amsterdam/ab68431e/vluchtladderstraat',\n",
       " 'https://www.pararius.nl/appartement-te-koop/amsterdam/da1e0dd3/van-ostadestraat',\n",
       " 'https://www.pararius.nl/appartement-te-koop/amsterdam/f8ab42fd/haarlemmer-houttuinen',\n",
       " 'https://www.pararius.nl/appartement-te-koop/amsterdam/244dfa2c/theodorus-majofskistraat',\n",
       " 'https://www.pararius.nl/appartement-te-koop/amsterdam/07d99cf3/eemsstraat',\n",
       " 'https://www.pararius.nl/appartement-te-koop/amsterdam/9ada59e4/van-boshuizenstraat',\n",
       " 'https://www.pararius.nl/appartement-te-koop/amsterdam/e738753f/commelinstraat',\n",
       " 'https://www.pararius.nl/appartement-te-koop/amsterdam/064a846c/brederodestraat',\n",
       " 'https://www.pararius.nl/appartement-te-koop/amsterdam/ae9d178a/heemstedestraat',\n",
       " 'https://www.pararius.nl/appartement-te-koop/amsterdam/00b437ad/eerste-oosterparkstraat',\n",
       " 'https://www.pararius.nl/appartement-te-koop/amsterdam/72600ac7/geuzenstraat',\n",
       " 'https://www.pararius.nl/appartement-te-koop/amsterdam/05d827a2/groenhoven',\n",
       " 'https://www.pararius.nl/appartement-te-koop/amsterdam/81a95189/van-walbeeckstraat',\n",
       " 'https://www.pararius.nl/appartement-te-koop/amsterdam/56fe7e2a/jacob-burggraafstraat',\n",
       " 'https://www.pararius.nl/appartement-te-koop/amsterdam/08d28f53/hoogte-kadijk',\n",
       " 'https://www.pararius.nl/appartement-te-koop/amsterdam/1e9da4fb/pasteurstraat',\n",
       " 'https://www.pararius.nl/appartement-te-koop/amsterdam/8e48f660/dinarpromenade',\n",
       " 'https://www.pararius.nl/appartement-te-koop/amsterdam/7e3594a6/lambertus-zijlplein',\n",
       " 'https://www.pararius.nl/appartement-te-koop/amsterdam/733ca03a/veembroederhof',\n",
       " 'https://www.pararius.nl/appartement-te-koop/amsterdam/f20af48a/zaanstraat',\n",
       " 'https://www.pararius.nl/appartement-te-koop/amsterdam/1aa7667a/spaarndammerstraat',\n",
       " 'https://www.pararius.nl/appartement-te-koop/amsterdam/b26873d1/antillenstraat',\n",
       " 'https://www.pararius.nl/appartement-te-koop/amsterdam/ff0b17a2/van-t-hofflaan',\n",
       " 'https://www.pararius.nl/appartement-te-koop/amsterdam/f5251818/eerste-van-swindenstraat',\n",
       " 'https://www.pararius.nl/appartement-te-koop/amsterdam/4585cdd1/dijkgraafplein',\n",
       " 'https://www.pararius.nl/appartement-te-koop/amsterdam/a00a79db/govert-flinckstraat',\n",
       " 'https://www.pararius.nl/appartement-te-koop/amsterdam/79fb46aa/marco-polostraat']"
      ]
     },
     "execution_count": 58,
     "metadata": {},
     "output_type": "execute_result"
    }
   ],
   "source": [
    "list(s.properties['url'].values)"
   ]
  },
  {
   "cell_type": "code",
   "execution_count": 107,
   "id": "33b4d593",
   "metadata": {},
   "outputs": [],
   "source": [
    "update_df = history.set_index('url')[['first_scrape_date', 'last_scrape_date']].join(\n",
    "    s.properties.set_index('url')['scrape_date'], \n",
    "    how='outer',\n",
    "    rsuffix=''\n",
    ")"
   ]
  },
  {
   "cell_type": "code",
   "execution_count": 134,
   "id": "3d945cc5",
   "metadata": {},
   "outputs": [],
   "source": [
    "new_properties = s.properties[s.properties['url'].isin(update_df[update_df['first_scrape_date'].isna()].index)].copy()"
   ]
  },
  {
   "cell_type": "code",
   "execution_count": 136,
   "id": "1642d458",
   "metadata": {},
   "outputs": [],
   "source": [
    "new_properties['first_scrape_date'] = new_properties['scrape_date']\n",
    "new_properties['last_scrape_date'] = new_properties['scrape_date']\n",
    "new_properties = new_properties.drop(columns=['scrape_date'])"
   ]
  },
  {
   "cell_type": "code",
   "execution_count": 112,
   "id": "00481535",
   "metadata": {},
   "outputs": [],
   "source": [
    "properties_to_update = update_df[((~update_df['first_scrape_date'].isna())&\n",
    "                                  (~update_df['scrape_date'].isna()))]"
   ]
  },
  {
   "cell_type": "code",
   "execution_count": 121,
   "id": "3ca1de18",
   "metadata": {},
   "outputs": [],
   "source": [
    "history = history.set_index('url')\n",
    "history.loc[history.index.isin(properties_to_update.index),'last_scrape_date'] = properties_to_update['scrape_date']\n",
    "history = history.reset_index()"
   ]
  },
  {
   "cell_type": "code",
   "execution_count": 138,
   "id": "654dc3ea",
   "metadata": {},
   "outputs": [],
   "source": [
    "history = pd.concat([history, new_properties])"
   ]
  },
  {
   "cell_type": "code",
   "execution_count": 20,
   "id": "4e2e81aa",
   "metadata": {},
   "outputs": [],
   "source": [
    "history.to_csv('data/history_20241207.csv', index=False)"
   ]
  },
  {
   "cell_type": "code",
   "execution_count": 8,
   "id": "7e487ccf",
   "metadata": {},
   "outputs": [],
   "source": [
    "history = pd.read_csv('data/history_20241207.csv')"
   ]
  },
  {
   "cell_type": "code",
   "execution_count": 15,
   "id": "e7333979",
   "metadata": {},
   "outputs": [],
   "source": [
    "postcode_coord = pd.read_csv('data/postcode_coordinates.csv')"
   ]
  },
  {
   "cell_type": "code",
   "execution_count": 24,
   "id": "231b7067",
   "metadata": {},
   "outputs": [],
   "source": [
    "history['latitude'] = history['post_code'].map(postcode_coord.set_index('post_code')['latitude'].to_dict())\n",
    "history['longitude'] = history['post_code'].map(postcode_coord.set_index('post_code')['longitude'].to_dict())"
   ]
  },
  {
   "cell_type": "code",
   "execution_count": 32,
   "id": "fae7641c",
   "metadata": {},
   "outputs": [],
   "source": [
    "history = history.rename(columns={'postType': 'post_type', 'post_code': 'postcode'})"
   ]
  },
  {
   "cell_type": "code",
   "execution_count": 52,
   "id": "0c299386",
   "metadata": {},
   "outputs": [],
   "source": [
    "history.to_csv('data/history_20241207.csv', index=False)"
   ]
  },
  {
   "cell_type": "code",
   "execution_count": 39,
   "id": "1480925f",
   "metadata": {},
   "outputs": [],
   "source": [
    "history = history[\n",
    "    ['source', 'first_scrape_date', 'last_scrape_date', 'url', 'post_type',\n",
    "    'city', 'location', 'title', 'postcode', 'price', 'price_type', 'surface',\n",
    "    'surface_unit', 'rooms', 'furnished', 'latitude', 'longitude']\n",
    "]"
   ]
  },
  {
   "cell_type": "code",
   "execution_count": 49,
   "id": "c6021f8a",
   "metadata": {},
   "outputs": [],
   "source": [
    "history = history[~history['price'].isna()]"
   ]
  },
  {
   "cell_type": "code",
   "execution_count": 50,
   "id": "6bb8ebb6",
   "metadata": {},
   "outputs": [
    {
     "name": "stderr",
     "output_type": "stream",
     "text": [
      "/tmp/ipykernel_301026/4043373950.py:1: SettingWithCopyWarning: \n",
      "A value is trying to be set on a copy of a slice from a DataFrame.\n",
      "Try using .loc[row_indexer,col_indexer] = value instead\n",
      "\n",
      "See the caveats in the documentation: https://pandas.pydata.org/pandas-docs/stable/user_guide/indexing.html#returning-a-view-versus-a-copy\n",
      "  history['price'] = history['price'].astype(int)\n"
     ]
    }
   ],
   "source": [
    "history['price'] = history['price'].astype(int)"
   ]
  },
  {
   "cell_type": "code",
   "execution_count": 53,
   "id": "4c74beb2",
   "metadata": {},
   "outputs": [],
   "source": [
    "history.to_csv('data/history_20241207_nohead.csv', index=False, header=False)"
   ]
  },
  {
   "cell_type": "code",
   "execution_count": null,
   "id": "11091048",
   "metadata": {},
   "outputs": [],
   "source": []
  }
 ],
 "metadata": {
  "kernelspec": {
   "display_name": "Python 3 (ipykernel)",
   "language": "python",
   "name": "python3"
  },
  "language_info": {
   "codemirror_mode": {
    "name": "ipython",
    "version": 3
   },
   "file_extension": ".py",
   "mimetype": "text/x-python",
   "name": "python",
   "nbconvert_exporter": "python",
   "pygments_lexer": "ipython3",
   "version": "3.10.9"
  }
 },
 "nbformat": 4,
 "nbformat_minor": 5
}
