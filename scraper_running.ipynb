{
 "cells": [
  {
   "cell_type": "code",
   "execution_count": null,
   "id": "0d25154b",
   "metadata": {},
   "outputs": [],
   "source": [
    "from scraper import Scraper\n",
    "import pandas as pd\n",
    "import httpx\n",
    "from bs4 import BeautifulSoup\n",
    "from random import random, randint\n",
    "import time\n",
    "import pandas as pd\n",
    "from datetime import date"
   ]
  },
  {
   "cell_type": "code",
   "execution_count": null,
   "id": "bf7acc7f",
   "metadata": {},
   "outputs": [],
   "source": [
    "s = Scraper()"
   ]
  },
  {
   "cell_type": "code",
   "execution_count": null,
   "id": "3ca8aebb",
   "metadata": {},
   "outputs": [],
   "source": [
    "cities = ['amsterdam']\n",
    "#sites = ['pararius','funda','kamernet']\n",
    "#sites = ['kamernet']\n",
    "sites = ['pararius']\n",
    "postTypes = ['Buy','Rent']"
   ]
  },
  {
   "cell_type": "code",
   "execution_count": null,
   "id": "d4329664",
   "metadata": {
    "scrolled": true
   },
   "outputs": [],
   "source": [
    "s.run(cities,sites,postTypes,10000)"
   ]
  },
  {
   "cell_type": "code",
   "execution_count": null,
   "id": "0415ce9b",
   "metadata": {},
   "outputs": [],
   "source": [
    "s.properties"
   ]
  },
  {
   "cell_type": "code",
   "execution_count": null,
   "id": "33b4d593",
   "metadata": {},
   "outputs": [],
   "source": [
    "update_df = history.set_index('url')[['first_scrape_date', 'last_scrape_date']].join(\n",
    "    s.properties.set_index('url')['scrape_date'], \n",
    "    how='outer',\n",
    "    rsuffix=''\n",
    ")"
   ]
  },
  {
   "cell_type": "code",
   "execution_count": null,
   "id": "3d945cc5",
   "metadata": {},
   "outputs": [],
   "source": [
    "new_properties = s.properties[s.properties['url'].isin(update_df[update_df['first_scrape_date'].isna()].index)].copy()"
   ]
  },
  {
   "cell_type": "code",
   "execution_count": null,
   "id": "1642d458",
   "metadata": {},
   "outputs": [],
   "source": [
    "new_properties['first_scrape_date'] = new_properties['scrape_date']\n",
    "new_properties['last_scrape_date'] = new_properties['scrape_date']\n",
    "new_properties = new_properties.drop(columns=['scrape_date'])"
   ]
  },
  {
   "cell_type": "code",
   "execution_count": null,
   "id": "00481535",
   "metadata": {},
   "outputs": [],
   "source": [
    "properties_to_update = update_df[((~update_df['first_scrape_date'].isna())&\n",
    "                                  (~update_df['scrape_date'].isna()))]"
   ]
  },
  {
   "cell_type": "code",
   "execution_count": null,
   "id": "3ca1de18",
   "metadata": {},
   "outputs": [],
   "source": [
    "history = history.set_index('url')\n",
    "history.loc[history.index.isin(properties_to_update.index),'last_scrape_date'] = properties_to_update['scrape_date']\n",
    "history = history.reset_index()"
   ]
  },
  {
   "cell_type": "code",
   "execution_count": null,
   "id": "654dc3ea",
   "metadata": {},
   "outputs": [],
   "source": [
    "history = pd.concat([history, new_properties])"
   ]
  },
  {
   "cell_type": "code",
   "execution_count": null,
   "id": "4e2e81aa",
   "metadata": {},
   "outputs": [],
   "source": [
    "history.to_csv('data/history_20241207.csv', index=False)"
   ]
  },
  {
   "cell_type": "code",
   "execution_count": null,
   "id": "7e487ccf",
   "metadata": {},
   "outputs": [],
   "source": [
    "history = pd.read_csv('data/history_20241207.csv')"
   ]
  },
  {
   "cell_type": "code",
   "execution_count": null,
   "id": "e7333979",
   "metadata": {},
   "outputs": [],
   "source": [
    "postcode_coord = pd.read_csv('data/postcode_coordinates.csv')"
   ]
  },
  {
   "cell_type": "code",
   "execution_count": null,
   "id": "231b7067",
   "metadata": {},
   "outputs": [],
   "source": [
    "history['latitude'] = history['post_code'].map(postcode_coord.set_index('post_code')['latitude'].to_dict())\n",
    "history['longitude'] = history['post_code'].map(postcode_coord.set_index('post_code')['longitude'].to_dict())"
   ]
  },
  {
   "cell_type": "code",
   "execution_count": null,
   "id": "fae7641c",
   "metadata": {},
   "outputs": [],
   "source": [
    "history = history.rename(columns={'postType': 'post_type', 'post_code': 'postcode'})"
   ]
  },
  {
   "cell_type": "code",
   "execution_count": null,
   "id": "0c299386",
   "metadata": {},
   "outputs": [],
   "source": [
    "history.to_csv('data/history_20241207.csv', index=False)"
   ]
  },
  {
   "cell_type": "code",
   "execution_count": null,
   "id": "1480925f",
   "metadata": {},
   "outputs": [],
   "source": [
    "history = history[\n",
    "    ['source', 'first_scrape_date', 'last_scrape_date', 'url', 'post_type',\n",
    "    'city', 'location', 'title', 'postcode', 'price', 'price_type', 'surface',\n",
    "    'surface_unit', 'rooms', 'furnished', 'latitude', 'longitude']\n",
    "]"
   ]
  },
  {
   "cell_type": "code",
   "execution_count": null,
   "id": "c6021f8a",
   "metadata": {},
   "outputs": [],
   "source": [
    "history = history[~history['price'].isna()]"
   ]
  },
  {
   "cell_type": "code",
   "execution_count": null,
   "id": "6bb8ebb6",
   "metadata": {},
   "outputs": [],
   "source": [
    "history['price'] = history['price'].astype(int)"
   ]
  },
  {
   "cell_type": "code",
   "execution_count": null,
   "id": "4c74beb2",
   "metadata": {},
   "outputs": [],
   "source": [
    "history.to_csv('data/history_20241207_nohead.csv', index=False, header=False)"
   ]
  },
  {
   "cell_type": "code",
   "execution_count": null,
   "id": "11091048",
   "metadata": {},
   "outputs": [],
   "source": []
  }
 ],
 "metadata": {
  "kernelspec": {
   "display_name": "Python 3 (ipykernel)",
   "language": "python",
   "name": "python3"
  },
  "language_info": {
   "codemirror_mode": {
    "name": "ipython",
    "version": 3
   },
   "file_extension": ".py",
   "mimetype": "text/x-python",
   "name": "python",
   "nbconvert_exporter": "python",
   "pygments_lexer": "ipython3",
   "version": "3.10.9"
  }
 },
 "nbformat": 4,
 "nbformat_minor": 5
}
