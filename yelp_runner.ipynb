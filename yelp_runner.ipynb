{
 "cells": [
  {
   "cell_type": "code",
   "execution_count": 1,
   "id": "cdfebf38",
   "metadata": {},
   "outputs": [],
   "source": [
    "import pandas as pd\n",
    "import numpy as np\n",
    "from yelp_scraper import YelpScraper"
   ]
  },
  {
   "cell_type": "code",
   "execution_count": 2,
   "id": "9de6434b",
   "metadata": {},
   "outputs": [],
   "source": [
    "yelp = YelpScraper()"
   ]
  },
  {
   "cell_type": "code",
   "execution_count": 3,
   "id": "c96e9b95",
   "metadata": {},
   "outputs": [
    {
     "data": {
      "application/vnd.jupyter.widget-view+json": {
       "model_id": "f2382583dc8349fb958d6e0bfe8f9151",
       "version_major": 2,
       "version_minor": 0
      },
      "text/plain": [
       "  0%|          | 0/9077 [00:00<?, ?it/s]"
      ]
     },
     "metadata": {},
     "output_type": "display_data"
    },
    {
     "name": "stdout",
     "output_type": "stream",
     "text": [
      "Rate Limit Reached.\n"
     ]
    }
   ],
   "source": [
    "yelp.get_businesses(by='postcode',radius=500)"
   ]
  },
  {
   "cell_type": "code",
   "execution_count": 4,
   "id": "052428b8",
   "metadata": {},
   "outputs": [
    {
     "data": {
      "text/html": [
       "<div>\n",
       "<style scoped>\n",
       "    .dataframe tbody tr th:only-of-type {\n",
       "        vertical-align: middle;\n",
       "    }\n",
       "\n",
       "    .dataframe tbody tr th {\n",
       "        vertical-align: top;\n",
       "    }\n",
       "\n",
       "    .dataframe thead th {\n",
       "        text-align: right;\n",
       "    }\n",
       "</style>\n",
       "<table border=\"1\" class=\"dataframe\">\n",
       "  <thead>\n",
       "    <tr style=\"text-align: right;\">\n",
       "      <th></th>\n",
       "      <th>postcode</th>\n",
       "      <th>category</th>\n",
       "    </tr>\n",
       "  </thead>\n",
       "  <tbody>\n",
       "    <tr>\n",
       "      <th>0</th>\n",
       "      <td>1103SE</td>\n",
       "      <td>active</td>\n",
       "    </tr>\n",
       "    <tr>\n",
       "      <th>1</th>\n",
       "      <td>1103SE</td>\n",
       "      <td>arts</td>\n",
       "    </tr>\n",
       "    <tr>\n",
       "      <th>2</th>\n",
       "      <td>1103SE</td>\n",
       "      <td>auto</td>\n",
       "    </tr>\n",
       "    <tr>\n",
       "      <th>3</th>\n",
       "      <td>1103SE</td>\n",
       "      <td>beautysvc</td>\n",
       "    </tr>\n",
       "    <tr>\n",
       "      <th>4</th>\n",
       "      <td>1103SE</td>\n",
       "      <td>bicycles</td>\n",
       "    </tr>\n",
       "    <tr>\n",
       "      <th>...</th>\n",
       "      <td>...</td>\n",
       "      <td>...</td>\n",
       "    </tr>\n",
       "    <tr>\n",
       "      <th>19899</th>\n",
       "      <td>1076LG</td>\n",
       "      <td>beautysvc</td>\n",
       "    </tr>\n",
       "    <tr>\n",
       "      <th>19900</th>\n",
       "      <td>1076LG</td>\n",
       "      <td>bicycles</td>\n",
       "    </tr>\n",
       "    <tr>\n",
       "      <th>19901</th>\n",
       "      <td>1076LG</td>\n",
       "      <td>education</td>\n",
       "    </tr>\n",
       "    <tr>\n",
       "      <th>19902</th>\n",
       "      <td>1076LG</td>\n",
       "      <td>eventservices</td>\n",
       "    </tr>\n",
       "    <tr>\n",
       "      <th>19903</th>\n",
       "      <td>1076LG</td>\n",
       "      <td>financialservices</td>\n",
       "    </tr>\n",
       "  </tbody>\n",
       "</table>\n",
       "<p>19904 rows × 2 columns</p>\n",
       "</div>"
      ],
      "text/plain": [
       "      postcode           category\n",
       "0       1103SE             active\n",
       "1       1103SE               arts\n",
       "2       1103SE               auto\n",
       "3       1103SE          beautysvc\n",
       "4       1103SE           bicycles\n",
       "...        ...                ...\n",
       "19899   1076LG          beautysvc\n",
       "19900   1076LG           bicycles\n",
       "19901   1076LG          education\n",
       "19902   1076LG      eventservices\n",
       "19903   1076LG  financialservices\n",
       "\n",
       "[19904 rows x 2 columns]"
      ]
     },
     "execution_count": 4,
     "metadata": {},
     "output_type": "execute_result"
    }
   ],
   "source": [
    "yelp.cache"
   ]
  },
  {
   "cell_type": "code",
   "execution_count": 5,
   "id": "e8b6b5f8",
   "metadata": {},
   "outputs": [
    {
     "data": {
      "text/html": [
       "<div>\n",
       "<style scoped>\n",
       "    .dataframe tbody tr th:only-of-type {\n",
       "        vertical-align: middle;\n",
       "    }\n",
       "\n",
       "    .dataframe tbody tr th {\n",
       "        vertical-align: top;\n",
       "    }\n",
       "\n",
       "    .dataframe thead th {\n",
       "        text-align: right;\n",
       "    }\n",
       "</style>\n",
       "<table border=\"1\" class=\"dataframe\">\n",
       "  <thead>\n",
       "    <tr style=\"text-align: right;\">\n",
       "      <th></th>\n",
       "      <th>id</th>\n",
       "      <th>name</th>\n",
       "      <th>url</th>\n",
       "      <th>review_count</th>\n",
       "      <th>rating</th>\n",
       "      <th>price</th>\n",
       "      <th>latitude</th>\n",
       "      <th>longitude</th>\n",
       "      <th>category</th>\n",
       "    </tr>\n",
       "  </thead>\n",
       "  <tbody>\n",
       "    <tr>\n",
       "      <th>0</th>\n",
       "      <td>8akwrs9iW8blEUio48Yxkw</td>\n",
       "      <td>Le Fournil de Sébastien</td>\n",
       "      <td>https://www.yelp.com/biz/le-fournil-de-s%C3%A9...</td>\n",
       "      <td>30</td>\n",
       "      <td>4.5</td>\n",
       "      <td>€€</td>\n",
       "      <td>52.346280</td>\n",
       "      <td>4.867920</td>\n",
       "      <td>food</td>\n",
       "    </tr>\n",
       "    <tr>\n",
       "      <th>1</th>\n",
       "      <td>KEviEQLQ6i0Se0vn2ViiyQ</td>\n",
       "      <td>L'Amuse Amsterdam</td>\n",
       "      <td>https://www.yelp.com/biz/l-amuse-amsterdam-ams...</td>\n",
       "      <td>12</td>\n",
       "      <td>5.0</td>\n",
       "      <td>€€</td>\n",
       "      <td>52.346334</td>\n",
       "      <td>4.868143</td>\n",
       "      <td>food</td>\n",
       "    </tr>\n",
       "    <tr>\n",
       "      <th>2</th>\n",
       "      <td>w_6zlhBIOsSHcGDVYQDYKQ</td>\n",
       "      <td>Bagel Nosh</td>\n",
       "      <td>https://www.yelp.com/biz/bagel-nosh-amsterdam-...</td>\n",
       "      <td>10</td>\n",
       "      <td>3.5</td>\n",
       "      <td>€</td>\n",
       "      <td>52.345990</td>\n",
       "      <td>4.865740</td>\n",
       "      <td>food</td>\n",
       "    </tr>\n",
       "    <tr>\n",
       "      <th>3</th>\n",
       "      <td>vX6rCg_RjZPdO79KbwLo8Q</td>\n",
       "      <td>Amsterdam Kookt</td>\n",
       "      <td>https://www.yelp.com/biz/amsterdam-kookt-amste...</td>\n",
       "      <td>10</td>\n",
       "      <td>3.5</td>\n",
       "      <td>€€</td>\n",
       "      <td>52.343013</td>\n",
       "      <td>4.854330</td>\n",
       "      <td>food</td>\n",
       "    </tr>\n",
       "    <tr>\n",
       "      <th>4</th>\n",
       "      <td>Ew0IhYLj2O5rP5wILDzUBg</td>\n",
       "      <td>Bakkerij Renzema</td>\n",
       "      <td>https://www.yelp.com/biz/bakkerij-renzema-amst...</td>\n",
       "      <td>6</td>\n",
       "      <td>4.0</td>\n",
       "      <td>€€</td>\n",
       "      <td>52.346393</td>\n",
       "      <td>4.868247</td>\n",
       "      <td>food</td>\n",
       "    </tr>\n",
       "    <tr>\n",
       "      <th>...</th>\n",
       "      <td>...</td>\n",
       "      <td>...</td>\n",
       "      <td>...</td>\n",
       "      <td>...</td>\n",
       "      <td>...</td>\n",
       "      <td>...</td>\n",
       "      <td>...</td>\n",
       "      <td>...</td>\n",
       "      <td>...</td>\n",
       "    </tr>\n",
       "    <tr>\n",
       "      <th>0</th>\n",
       "      <td>lwBkVm40YRIrM4llOMKQhg</td>\n",
       "      <td>The WineKitchen</td>\n",
       "      <td>https://www.yelp.com/biz/the-winekitchen-amste...</td>\n",
       "      <td>4</td>\n",
       "      <td>4.0</td>\n",
       "      <td>€€</td>\n",
       "      <td>52.301330</td>\n",
       "      <td>4.846310</td>\n",
       "      <td>arts</td>\n",
       "    </tr>\n",
       "    <tr>\n",
       "      <th>0</th>\n",
       "      <td>cIwmgMkIBIOdYqPL8oF9EA</td>\n",
       "      <td>Keizer Karel College</td>\n",
       "      <td>https://www.yelp.com/biz/keizer-karel-college-...</td>\n",
       "      <td>1</td>\n",
       "      <td>4.0</td>\n",
       "      <td>NaN</td>\n",
       "      <td>52.302349</td>\n",
       "      <td>4.849540</td>\n",
       "      <td>education</td>\n",
       "    </tr>\n",
       "    <tr>\n",
       "      <th>0</th>\n",
       "      <td>lwBkVm40YRIrM4llOMKQhg</td>\n",
       "      <td>The WineKitchen</td>\n",
       "      <td>https://www.yelp.com/biz/the-winekitchen-amste...</td>\n",
       "      <td>4</td>\n",
       "      <td>4.0</td>\n",
       "      <td>€€</td>\n",
       "      <td>52.301330</td>\n",
       "      <td>4.846310</td>\n",
       "      <td>food</td>\n",
       "    </tr>\n",
       "    <tr>\n",
       "      <th>1</th>\n",
       "      <td>TJcFO-413mRv6ndZoXzzeg</td>\n",
       "      <td>La Gare</td>\n",
       "      <td>https://www.yelp.com/biz/la-gare-amstelveen?ad...</td>\n",
       "      <td>2</td>\n",
       "      <td>4.0</td>\n",
       "      <td>NaN</td>\n",
       "      <td>52.301762</td>\n",
       "      <td>4.846363</td>\n",
       "      <td>food</td>\n",
       "    </tr>\n",
       "    <tr>\n",
       "      <th>0</th>\n",
       "      <td>pXPyrtjUK2hqly69_YGmoQ</td>\n",
       "      <td>Hogerwerf &amp; Meyer</td>\n",
       "      <td>https://www.yelp.com/biz/hogerwerf-en-meyer-am...</td>\n",
       "      <td>1</td>\n",
       "      <td>5.0</td>\n",
       "      <td>NaN</td>\n",
       "      <td>52.301768</td>\n",
       "      <td>4.846530</td>\n",
       "      <td>homeservices</td>\n",
       "    </tr>\n",
       "  </tbody>\n",
       "</table>\n",
       "<p>40480 rows × 9 columns</p>\n",
       "</div>"
      ],
      "text/plain": [
       "                        id                     name  \\\n",
       "0   8akwrs9iW8blEUio48Yxkw  Le Fournil de Sébastien   \n",
       "1   KEviEQLQ6i0Se0vn2ViiyQ        L'Amuse Amsterdam   \n",
       "2   w_6zlhBIOsSHcGDVYQDYKQ               Bagel Nosh   \n",
       "3   vX6rCg_RjZPdO79KbwLo8Q          Amsterdam Kookt   \n",
       "4   Ew0IhYLj2O5rP5wILDzUBg         Bakkerij Renzema   \n",
       "..                     ...                      ...   \n",
       "0   lwBkVm40YRIrM4llOMKQhg          The WineKitchen   \n",
       "0   cIwmgMkIBIOdYqPL8oF9EA     Keizer Karel College   \n",
       "0   lwBkVm40YRIrM4llOMKQhg          The WineKitchen   \n",
       "1   TJcFO-413mRv6ndZoXzzeg                  La Gare   \n",
       "0   pXPyrtjUK2hqly69_YGmoQ        Hogerwerf & Meyer   \n",
       "\n",
       "                                                  url  review_count  rating  \\\n",
       "0   https://www.yelp.com/biz/le-fournil-de-s%C3%A9...            30     4.5   \n",
       "1   https://www.yelp.com/biz/l-amuse-amsterdam-ams...            12     5.0   \n",
       "2   https://www.yelp.com/biz/bagel-nosh-amsterdam-...            10     3.5   \n",
       "3   https://www.yelp.com/biz/amsterdam-kookt-amste...            10     3.5   \n",
       "4   https://www.yelp.com/biz/bakkerij-renzema-amst...             6     4.0   \n",
       "..                                                ...           ...     ...   \n",
       "0   https://www.yelp.com/biz/the-winekitchen-amste...             4     4.0   \n",
       "0   https://www.yelp.com/biz/keizer-karel-college-...             1     4.0   \n",
       "0   https://www.yelp.com/biz/the-winekitchen-amste...             4     4.0   \n",
       "1   https://www.yelp.com/biz/la-gare-amstelveen?ad...             2     4.0   \n",
       "0   https://www.yelp.com/biz/hogerwerf-en-meyer-am...             1     5.0   \n",
       "\n",
       "   price   latitude  longitude      category  \n",
       "0     €€  52.346280   4.867920          food  \n",
       "1     €€  52.346334   4.868143          food  \n",
       "2      €  52.345990   4.865740          food  \n",
       "3     €€  52.343013   4.854330          food  \n",
       "4     €€  52.346393   4.868247          food  \n",
       "..   ...        ...        ...           ...  \n",
       "0     €€  52.301330   4.846310          arts  \n",
       "0    NaN  52.302349   4.849540     education  \n",
       "0     €€  52.301330   4.846310          food  \n",
       "1    NaN  52.301762   4.846363          food  \n",
       "0    NaN  52.301768   4.846530  homeservices  \n",
       "\n",
       "[40480 rows x 9 columns]"
      ]
     },
     "execution_count": 5,
     "metadata": {},
     "output_type": "execute_result"
    }
   ],
   "source": [
    "yelp.new_bus"
   ]
  },
  {
   "cell_type": "code",
   "execution_count": 7,
   "id": "018c4b5f",
   "metadata": {},
   "outputs": [
    {
     "ename": "AttributeError",
     "evalue": "'YelpScraper' object has no attribute 'New_cache'",
     "output_type": "error",
     "traceback": [
      "\u001b[1;31m---------------------------------------------------------------------------\u001b[0m",
      "\u001b[1;31mAttributeError\u001b[0m                            Traceback (most recent call last)",
      "Input \u001b[1;32mIn [7]\u001b[0m, in \u001b[0;36m<cell line: 1>\u001b[1;34m()\u001b[0m\n\u001b[1;32m----> 1\u001b[0m \u001b[43myelp\u001b[49m\u001b[38;5;241;43m.\u001b[39;49m\u001b[43msave_new_bus\u001b[49m\u001b[43m(\u001b[49m\u001b[43m)\u001b[49m\n",
      "File \u001b[1;32m~\\Documents\\Personal\\amsterdam_rent\\yelp_scraper.py:73\u001b[0m, in \u001b[0;36mYelpScraper.save_new_bus\u001b[1;34m(self)\u001b[0m\n\u001b[0;32m     69\u001b[0m \u001b[38;5;28;01mdef\u001b[39;00m \u001b[38;5;21msave_new_bus\u001b[39m(\u001b[38;5;28mself\u001b[39m):\n\u001b[0;32m     70\u001b[0m     \u001b[38;5;28;01mif\u001b[39;00m (\u001b[38;5;28mlist\u001b[39m(\u001b[38;5;28mself\u001b[39m\u001b[38;5;241m.\u001b[39mknown_bus\u001b[38;5;241m.\u001b[39mcolumns) \u001b[38;5;241m==\u001b[39m [\u001b[38;5;124m'\u001b[39m\u001b[38;5;124mid\u001b[39m\u001b[38;5;124m'\u001b[39m, \u001b[38;5;124m'\u001b[39m\u001b[38;5;124mname\u001b[39m\u001b[38;5;124m'\u001b[39m, \u001b[38;5;124m'\u001b[39m\u001b[38;5;124murl\u001b[39m\u001b[38;5;124m'\u001b[39m, \u001b[38;5;124m'\u001b[39m\u001b[38;5;124mreview_count\u001b[39m\u001b[38;5;124m'\u001b[39m, \u001b[38;5;124m'\u001b[39m\u001b[38;5;124mrating\u001b[39m\u001b[38;5;124m'\u001b[39m, \u001b[38;5;124m'\u001b[39m\u001b[38;5;124mprice\u001b[39m\u001b[38;5;124m'\u001b[39m, \u001b[38;5;124m'\u001b[39m\u001b[38;5;124mlatitude\u001b[39m\u001b[38;5;124m'\u001b[39m,\u001b[38;5;124m'\u001b[39m\u001b[38;5;124mlongitude\u001b[39m\u001b[38;5;124m'\u001b[39m, \u001b[38;5;124m'\u001b[39m\u001b[38;5;124mcategory\u001b[39m\u001b[38;5;124m'\u001b[39m] \n\u001b[0;32m     71\u001b[0m         \u001b[38;5;129;01mand\u001b[39;00m \u001b[38;5;28mlist\u001b[39m(\u001b[38;5;28mself\u001b[39m\u001b[38;5;241m.\u001b[39mnew_bus\u001b[38;5;241m.\u001b[39mcolumns) \u001b[38;5;241m==\u001b[39m [\u001b[38;5;124m'\u001b[39m\u001b[38;5;124mid\u001b[39m\u001b[38;5;124m'\u001b[39m, \u001b[38;5;124m'\u001b[39m\u001b[38;5;124mname\u001b[39m\u001b[38;5;124m'\u001b[39m, \u001b[38;5;124m'\u001b[39m\u001b[38;5;124murl\u001b[39m\u001b[38;5;124m'\u001b[39m, \u001b[38;5;124m'\u001b[39m\u001b[38;5;124mreview_count\u001b[39m\u001b[38;5;124m'\u001b[39m, \u001b[38;5;124m'\u001b[39m\u001b[38;5;124mrating\u001b[39m\u001b[38;5;124m'\u001b[39m, \u001b[38;5;124m'\u001b[39m\u001b[38;5;124mprice\u001b[39m\u001b[38;5;124m'\u001b[39m, \u001b[38;5;124m'\u001b[39m\u001b[38;5;124mlatitude\u001b[39m\u001b[38;5;124m'\u001b[39m,\u001b[38;5;124m'\u001b[39m\u001b[38;5;124mlongitude\u001b[39m\u001b[38;5;124m'\u001b[39m, \u001b[38;5;124m'\u001b[39m\u001b[38;5;124mcategory\u001b[39m\u001b[38;5;124m'\u001b[39m]\n\u001b[0;32m     72\u001b[0m         \u001b[38;5;129;01mand\u001b[39;00m \u001b[38;5;28mlist\u001b[39m(\u001b[38;5;28mself\u001b[39m\u001b[38;5;241m.\u001b[39mcache\u001b[38;5;241m.\u001b[39mcolumns) \u001b[38;5;241m==\u001b[39m [\u001b[38;5;124m'\u001b[39m\u001b[38;5;124mpostcode\u001b[39m\u001b[38;5;124m'\u001b[39m, \u001b[38;5;124m'\u001b[39m\u001b[38;5;124mcategory\u001b[39m\u001b[38;5;124m'\u001b[39m]\n\u001b[1;32m---> 73\u001b[0m         \u001b[38;5;129;01mand\u001b[39;00m \u001b[38;5;28mlist\u001b[39m(\u001b[38;5;28;43mself\u001b[39;49m\u001b[38;5;241;43m.\u001b[39;49m\u001b[43mNew_cache\u001b[49m\u001b[38;5;241m.\u001b[39mcolumns) \u001b[38;5;241m==\u001b[39m [\u001b[38;5;124m'\u001b[39m\u001b[38;5;124mpostcode\u001b[39m\u001b[38;5;124m'\u001b[39m, \u001b[38;5;124m'\u001b[39m\u001b[38;5;124mcategory\u001b[39m\u001b[38;5;124m'\u001b[39m]):\n\u001b[0;32m     74\u001b[0m         \u001b[38;5;28mself\u001b[39m\u001b[38;5;241m.\u001b[39mknown_bus \u001b[38;5;241m=\u001b[39m pd\u001b[38;5;241m.\u001b[39mconcat([\u001b[38;5;28mself\u001b[39m\u001b[38;5;241m.\u001b[39mknown_bus,\u001b[38;5;28mself\u001b[39m\u001b[38;5;241m.\u001b[39mnew_bus])\u001b[38;5;241m.\u001b[39mdrop_duplicates()\u001b[38;5;241m.\u001b[39mreset_index(drop\u001b[38;5;241m=\u001b[39m\u001b[38;5;28;01mTrue\u001b[39;00m)\n\u001b[0;32m     75\u001b[0m         \u001b[38;5;28mself\u001b[39m\u001b[38;5;241m.\u001b[39mknown_bus\u001b[38;5;241m.\u001b[39mto_csv(\u001b[38;5;124m'\u001b[39m\u001b[38;5;124m./data/yelp_businesses.csv\u001b[39m\u001b[38;5;124m'\u001b[39m,index\u001b[38;5;241m=\u001b[39m\u001b[38;5;28;01mFalse\u001b[39;00m)\n",
      "\u001b[1;31mAttributeError\u001b[0m: 'YelpScraper' object has no attribute 'New_cache'"
     ]
    }
   ],
   "source": [
    "yelp.save_new_bus()"
   ]
  },
  {
   "cell_type": "code",
   "execution_count": 8,
   "id": "522accbf",
   "metadata": {},
   "outputs": [],
   "source": [
    "yelp.known_bus = pd.concat([yelp.known_bus,yelp.new_bus]).drop_duplicates().reset_index(drop=True)\n",
    "yelp.known_bus.to_csv('./data/yelp_businesses.csv',index=False)\n",
    "yelp.cache = pd.concat([yelp.cache,yelp.new_cache]).drop_duplicates().reset_index(drop=True)\n",
    "yelp.cache.to_csv('./data/yelp_cache.csv',index=False)\n",
    "yelp.new_bus = pd.DataFrame()"
   ]
  },
  {
   "cell_type": "code",
   "execution_count": 9,
   "id": "09ff94bf",
   "metadata": {},
   "outputs": [
    {
     "data": {
      "text/plain": [
       "11750"
      ]
     },
     "execution_count": 9,
     "metadata": {},
     "output_type": "execute_result"
    }
   ],
   "source": [
    "len(yelp.known_bus)"
   ]
  },
  {
   "cell_type": "code",
   "execution_count": 10,
   "id": "b4398e86",
   "metadata": {},
   "outputs": [
    {
     "data": {
      "text/plain": [
       "11750"
      ]
     },
     "execution_count": 10,
     "metadata": {},
     "output_type": "execute_result"
    }
   ],
   "source": [
    "len(yelp.known_bus)"
   ]
  },
  {
   "cell_type": "code",
   "execution_count": 17,
   "id": "bdfc22a4",
   "metadata": {},
   "outputs": [],
   "source": [
    "y = YelpScraper()"
   ]
  },
  {
   "cell_type": "code",
   "execution_count": 18,
   "id": "e90b0043",
   "metadata": {},
   "outputs": [
    {
     "data": {
      "text/plain": [
       "array(['1103SE', '1103TV', '1073ST', '1106AG', '1065LW', '1066LK',\n",
       "       '1103SC', '1015RR', '1058VG', '1078LM', '1103GZ', '1072BW',\n",
       "       '1063MD', '1058NL', '1017VK', '1034BM', '1106JG', '1073GP',\n",
       "       '1055DW', '1072GZ', '1075TL', '1024KM', '1012TA', '1107HV',\n",
       "       '1087HJ', '1104TX', '1057PX', '1054WP', '1082MT', '1098HR',\n",
       "       '1055CM', '1057PC', '1095DS', '1058JR', '1019RD', '1082EG',\n",
       "       '1067DJ', '1012EX', '1078CM', '1012TK', '1035AT', '1025AT',\n",
       "       '1019PS', '1055KP', '1055KR', '1056AD', '1092HX', '1011NC',\n",
       "       '1069DA', '1054MH', '1077RW', '1068JD', '1054KK', '1068MS',\n",
       "       '1079VL', '1057NG', '1066MT', '1055XP', '1095AE', '1018AK',\n",
       "       '1057HM', '1106AE', '1054CD', '1059XR', '1015BT', '1067MX',\n",
       "       '1063PR', '1106EE', '1016VW', '1053ZC', '1019JH', '1068CD',\n",
       "       '1018LP', '1065GA', '1105AW', '1102ZK', '1052ER', '1106ES',\n",
       "       '1058DP', '1083JE', '1091CZ', '1013KB', '1012XM', '1067PV',\n",
       "       '1058PC', '1057JV', '1075VW', '1108BS', '1095JD', '1086ZG',\n",
       "       '1021TR', '1057DH', '1078RM', '1035CT', '1093JD', '1015CL',\n",
       "       '1108HR', '1095EW', '1105BM', '1102AV', '1067JK', '1024AL',\n",
       "       '1065TJ', '1056WR', '1017VM', '1097GC', '1091DE', '1018BC',\n",
       "       '1094XZ', '1107CS', '1086ZJ', '1073XR', '1055LM', '1023AD',\n",
       "       '1097AL', '1057JC', '1094GG', '1053GD', '1055JT', '1075RG',\n",
       "       '1107TE', '1063NJ', '1098TJ', '1103MT', '1106DC', '1078TZ',\n",
       "       '1054DJ', '1087KD', '1104VB', '1083XH', '1064CX', '1068EW',\n",
       "       '1052GN', '1102KA', '1106CX', '1075SG', '1102AL', '1054TZ',\n",
       "       '1036KD', '1018WR', '1059AK', '1073EJ', '1057WR', '1015ZP',\n",
       "       '1072JC', '1061BD', '1016VS', '1061TH', '1058VM', '1074ED',\n",
       "       '1087DE', '1018SX', '1051JW', '1091HN', '1056VE', '1093MJ',\n",
       "       '1073BZ', '1058HZ', '1058XZ', '1017VC', '1079BT', '1019WJ',\n",
       "       '1087LD', '1025LH', '1061AG', '1034CK', '1092JB', '1035XM',\n",
       "       '1078LL', '1034TR', '1055ND', '1107LG', '1076LZ', '1102CA',\n",
       "       '1058AG', '1059BD', '1057NJ', '1107KD', '1013AW', '1061BM',\n",
       "       '1096GJ', '1054VE', '1076LJ', '1057RW', '1056TJ', '1062AL',\n",
       "       '1051KS', '1025VN', '1011TE', '1185BN', '1181JM', '1185KM',\n",
       "       '1182HN', '1185BE', '1187NL', '1188CG', '1186WD', '1186DJ',\n",
       "       '1111LS', '1113LH', '1111KD', '1111GE', '1111LP', '1112NM',\n",
       "       '1112WW', '1112PR', '1111NN', '1504HJ', '1502GL', '1507EC',\n",
       "       '1507XA', '1505TK', '1505CB', '1506TX', '1506CM', '2022EB',\n",
       "       '2022XR', '2014CP', '2014RK', '2032EA', '2021JC', '2031CD',\n",
       "       '2012VD', '2013GE', '2013ZJ', '2022AA', '2032LM', '2011SN',\n",
       "       '2036RJ', '2013BL', '2034AD', '2034LJ', '2011GT', '2021HM',\n",
       "       '1382HK', '1077BA', '1017LB', '1016BC', '1087KA', '1087MN',\n",
       "       '1054GZ', '1069KE', '1033NT', '1017WP', '1075CK', '1087AX',\n",
       "       '1015BL', '1075AJ', '1017EA', '1034KV', '1021BM', '1015RG',\n",
       "       '1016KE', '1019XA', '1032ED', '1087VV', '1025MS', '1060RJ',\n",
       "       '1017NA', '1082BB', '1019JV', '1069NE', '1011PW', '1016HH',\n",
       "       '1104MM', '1087JJ', '1064AB', '1014ZG', '1106HA', '1103MK',\n",
       "       '1081HA', '1054LR', '1066WK', '1066DE', '1022LK', '1054GE',\n",
       "       '1015PK', '1077DT', '1016BX', '1051AM', '1018ZL', '1061ME',\n",
       "       '1071HG', '1019RK', '1103DS', '1103PP', '1072MK', '1106WS',\n",
       "       '1071LJ', '1082MS', '1082GM', '1031HX', '1054ZA', '1019RR',\n",
       "       '1018KZ', '1086VA', '1021LK', '1018MP', '1018TN', '1018DH',\n",
       "       '1071AK', '1094NP', '1071GG', '1013MM', '1075KK', '1015RW',\n",
       "       '1071WR', '1031KE', '1018LC', '1031KG', '1013SR', '1012VE',\n",
       "       '1077NL', '1017GP', '1055DD', '1018LG', '1087EH', '1068VM',\n",
       "       '1011JH', '1013RJ', '1015XN', '1064CR', '1017BA', '1096GG',\n",
       "       '1011MG', '1073TS', '1083XD', '1077KP', '1076PX', '1102SW',\n",
       "       '1057VG', '1062ER', '1025ZD', '1072SX', '1058NH', '1102ST',\n",
       "       '1018DT', '1013VJ', '1058SK', '1082EP', '1018TB', '1096GD',\n",
       "       '1057BH', '1015SV', '1019VK', '1051KX', '1019AG', '1025DZ',\n",
       "       '1096DS', '1094JZ', '1053BG', '1032LL', '1077BP', '1098BP',\n",
       "       '1072LC', '1093ED', '1092AM', '1083DA', '1078AC', '1017CD',\n",
       "       '1018DE', '1033RD', '1033WW', '1079RH', '1076DT', '1078DN',\n",
       "       '1083KD', '1074GZ', '1016AD', '1079LX', '1078NT', '1108GZ',\n",
       "       '1091BS', '1075CP', '1078MT', '1091CW', '1015DT', '1015HB',\n",
       "       '1013SZ', '1059VS', '1018MX', '1071PG', '1087KN', '1031KB',\n",
       "       '1058GZ', '1011LE', '1015AD', '1091TJ', '1018BT', '1061DL',\n",
       "       '1015MV', '1071JH', '1016HV', '1016CG', '1073VW', '1078XB',\n",
       "       '1102TD', '1018KA', '1018GJ', '1017BM', '1097ZW', '1083JR',\n",
       "       '1098XA', '1016AH', '1078HE', '1017RX', '1071ZS', '1077KG',\n",
       "       '1012RM', '1018WK', '1066LH', '1072VC', '1015TH', '1082RC',\n",
       "       '1016PL', '1016VX', '1016EJ', '1013NJ', '1014ZL', '1071JD',\n",
       "       '1017KG', '1054DE', '1071GN', '1017WV', '1071RW', '1075SL',\n",
       "       '1019HJ', '1035BG', '1052LD', '1012CJ', '1015MN', '1072GL',\n",
       "       '1073XZ', '1015DV', '1091SZ', '1054ES', '1051PA', '1076NZ',\n",
       "       '1075HM', '1078NH', '1013HG', '1016GX', '1077CN', '1012VN',\n",
       "       '1104PH', '1017XN', '1054GG', '1057GV', '1076DX', '1108DB',\n",
       "       '1075XL', nan, 'AA', 'AB', 'AC', 'AD', 'AE', 'AG', 'AH', 'AJ',\n",
       "       'AK', 'AL', 'AM', 'AN', 'AP', 'AR', 'AS', 'AT', 'AV', 'AW', 'AX',\n",
       "       'AZ', 'BA', 'BB', 'BC', 'BD', 'BE', 'BG', 'BH', 'BJ', 'BK', 'BL',\n",
       "       'BM', 'BN', 'BP', 'BR', 'BS', 'BT', 'BV', 'BW', 'BX', 'BZ', 'CA',\n",
       "       'CB', 'CC', 'CD', 'CE', 'CG', 'CH', 'CJ', 'CK', 'CL', 'CM', 'CN',\n",
       "       'CP', 'CR', 'CS', 'CT', 'CV', 'CW', 'CX', 'CZ', 'DA', 'DB', 'DC',\n",
       "       'DD', 'DE', 'DG', 'DH', 'DJ', 'DK', 'DL', 'DM', 'DN', 'DP', 'DR',\n",
       "       'DS', 'DT', 'DV', 'DW', 'DX', 'DZ', 'EA', 'EB', 'EC', 'ED', 'EE',\n",
       "       'EG', 'EH', 'EJ', 'EK', 'EL', 'EM', 'EN', 'EP', 'ER', 'ES', 'ET',\n",
       "       'EV', 'EW', 'EX', 'EZ', 'GA', 'GB', 'GC', 'GD', 'GE', 'GG', 'GH',\n",
       "       'GJ', 'GK', 'GL', 'GM', 'GN', 'GP', 'GR', 'GS', 'GT', 'GV', 'GW',\n",
       "       'GX', 'GZ', 'HA', 'HB', 'HC', 'HD', 'HE', 'HG', 'HH', '1011',\n",
       "       '1012', '1013', '1014', '1015', '1016', '1017', '1018', '1019',\n",
       "       '1021', '1022', '1023', '1024', '1025', '1026', '1027', '1028',\n",
       "       '1031', '1032', '1033', '1034', '1035', '1036', '1037', '1043',\n",
       "       '1051', '1052', '1053', '1054', '1055', '1056', '1057', '1058',\n",
       "       '1059', '1060', '1061', '1062', '1063', '1064', '1065', '1066',\n",
       "       '1067', '1068', '1069', '1071', '1072', '1073', '1074', '1075',\n",
       "       '1076', '1077', '1078', '1079', '1081', '1082', '1083', '1086',\n",
       "       '1087', '1091', '1092', '1093', '1094', '1095', '1096', '1097',\n",
       "       '1098', '1101', '1102', '1103', '1104', '1105', '1106', '1107',\n",
       "       '1108', '1109', '1111', '1112', '1113', '1115', '1161', '1171',\n",
       "       '1181', '1182', '1183', '1184', '1185', '1186', '1187', '1188',\n",
       "       '1189', '1191', '1381', '1382', '1383', '1384', '1421', '1422',\n",
       "       '1423', '1431', '1432'], dtype=object)"
      ]
     },
     "execution_count": 18,
     "metadata": {},
     "output_type": "execute_result"
    }
   ],
   "source": [
    "y.cache['postcode'].unique()"
   ]
  },
  {
   "cell_type": "code",
   "execution_count": 24,
   "id": "1ace5224",
   "metadata": {},
   "outputs": [
    {
     "data": {
      "text/plain": [
       "'https://www.yelp.com/biz/ottomania-haarlem?adjust_creative=36CiYOl4Kf525knEbUByyg&utm_campaign=yelp_api_v3&utm_medium=api_v3_business_search&utm_source=36CiYOl4Kf525knEbUByyg'"
      ]
     },
     "execution_count": 24,
     "metadata": {},
     "output_type": "execute_result"
    }
   ],
   "source": [
    "y.known_bus.iloc[-1]['url']"
   ]
  },
  {
   "cell_type": "code",
   "execution_count": null,
   "id": "e628eee2",
   "metadata": {},
   "outputs": [],
   "source": []
  }
 ],
 "metadata": {
  "kernelspec": {
   "display_name": "Python 3 (ipykernel)",
   "language": "python",
   "name": "python3"
  },
  "language_info": {
   "codemirror_mode": {
    "name": "ipython",
    "version": 3
   },
   "file_extension": ".py",
   "mimetype": "text/x-python",
   "name": "python",
   "nbconvert_exporter": "python",
   "pygments_lexer": "ipython3",
   "version": "3.10.5"
  }
 },
 "nbformat": 4,
 "nbformat_minor": 5
}
