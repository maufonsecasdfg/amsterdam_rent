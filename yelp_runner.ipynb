{
 "cells": [
  {
   "cell_type": "code",
   "execution_count": 1,
   "id": "cdfebf38",
   "metadata": {},
   "outputs": [
    {
     "name": "stderr",
     "output_type": "stream",
     "text": [
      "C:\\Users\\gx826tr\\AppData\\Local\\Packages\\PythonSoftwareFoundation.Python.3.10_qbz5n2kfra8p0\\LocalCache\\local-packages\\Python310\\site-packages\\geopandas\\_compat.py:112: UserWarning: The Shapely GEOS version (3.10.2-CAPI-1.16.0) is incompatible with the GEOS version PyGEOS was compiled with (3.10.1-CAPI-1.16.0). Conversions between both will be slow.\n",
      "  warnings.warn(\n"
     ]
    }
   ],
   "source": [
    "import pandas as pd\n",
    "import numpy as np\n",
    "from yelp_scraper import YelpScraper"
   ]
  },
  {
   "cell_type": "code",
   "execution_count": 2,
   "id": "9de6434b",
   "metadata": {},
   "outputs": [],
   "source": [
    "yelp = YelpScraper()"
   ]
  },
  {
   "cell_type": "code",
   "execution_count": 3,
   "id": "8a3097ba",
   "metadata": {},
   "outputs": [],
   "source": [
    "yelp.generate_latlnong_grid(res=40,knwon_bus_thrs=20)"
   ]
  },
  {
   "cell_type": "code",
   "execution_count": null,
   "id": "c96e9b95",
   "metadata": {},
   "outputs": [
    {
     "data": {
      "application/vnd.jupyter.widget-view+json": {
       "model_id": "a588dec532294eb9910c62ea98f0c366",
       "version_major": 2,
       "version_minor": 0
      },
      "text/plain": [
       "  0%|          | 0/494 [00:00<?, ?it/s]"
      ]
     },
     "metadata": {},
     "output_type": "display_data"
    }
   ],
   "source": [
    "yelp.get_businesses(radius=500,label='started20220713')"
   ]
  },
  {
   "cell_type": "code",
   "execution_count": 4,
   "id": "052428b8",
   "metadata": {},
   "outputs": [
    {
     "data": {
      "text/html": [
       "<div>\n",
       "<style scoped>\n",
       "    .dataframe tbody tr th:only-of-type {\n",
       "        vertical-align: middle;\n",
       "    }\n",
       "\n",
       "    .dataframe tbody tr th {\n",
       "        vertical-align: top;\n",
       "    }\n",
       "\n",
       "    .dataframe thead th {\n",
       "        text-align: right;\n",
       "    }\n",
       "</style>\n",
       "<table border=\"1\" class=\"dataframe\">\n",
       "  <thead>\n",
       "    <tr style=\"text-align: right;\">\n",
       "      <th></th>\n",
       "      <th>postcode</th>\n",
       "      <th>category</th>\n",
       "    </tr>\n",
       "  </thead>\n",
       "  <tbody>\n",
       "    <tr>\n",
       "      <th>0</th>\n",
       "      <td>1103SE</td>\n",
       "      <td>active</td>\n",
       "    </tr>\n",
       "    <tr>\n",
       "      <th>1</th>\n",
       "      <td>1103SE</td>\n",
       "      <td>arts</td>\n",
       "    </tr>\n",
       "    <tr>\n",
       "      <th>2</th>\n",
       "      <td>1103SE</td>\n",
       "      <td>auto</td>\n",
       "    </tr>\n",
       "    <tr>\n",
       "      <th>3</th>\n",
       "      <td>1103SE</td>\n",
       "      <td>beautysvc</td>\n",
       "    </tr>\n",
       "    <tr>\n",
       "      <th>4</th>\n",
       "      <td>1103SE</td>\n",
       "      <td>bicycles</td>\n",
       "    </tr>\n",
       "    <tr>\n",
       "      <th>...</th>\n",
       "      <td>...</td>\n",
       "      <td>...</td>\n",
       "    </tr>\n",
       "    <tr>\n",
       "      <th>35581</th>\n",
       "      <td>52.352_4.8415_100x100</td>\n",
       "      <td>beautysvc</td>\n",
       "    </tr>\n",
       "    <tr>\n",
       "      <th>35582</th>\n",
       "      <td>52.352_4.8415_100x100</td>\n",
       "      <td>bicycles</td>\n",
       "    </tr>\n",
       "    <tr>\n",
       "      <th>35583</th>\n",
       "      <td>52.352_4.8415_100x100</td>\n",
       "      <td>education</td>\n",
       "    </tr>\n",
       "    <tr>\n",
       "      <th>35584</th>\n",
       "      <td>52.352_4.8415_100x100</td>\n",
       "      <td>eventservices</td>\n",
       "    </tr>\n",
       "    <tr>\n",
       "      <th>35585</th>\n",
       "      <td>52.352_4.8415_100x100</td>\n",
       "      <td>financialservices</td>\n",
       "    </tr>\n",
       "  </tbody>\n",
       "</table>\n",
       "<p>35586 rows × 2 columns</p>\n",
       "</div>"
      ],
      "text/plain": [
       "                    postcode           category\n",
       "0                     1103SE             active\n",
       "1                     1103SE               arts\n",
       "2                     1103SE               auto\n",
       "3                     1103SE          beautysvc\n",
       "4                     1103SE           bicycles\n",
       "...                      ...                ...\n",
       "35581  52.352_4.8415_100x100          beautysvc\n",
       "35582  52.352_4.8415_100x100           bicycles\n",
       "35583  52.352_4.8415_100x100          education\n",
       "35584  52.352_4.8415_100x100      eventservices\n",
       "35585  52.352_4.8415_100x100  financialservices\n",
       "\n",
       "[35586 rows x 2 columns]"
      ]
     },
     "execution_count": 4,
     "metadata": {},
     "output_type": "execute_result"
    }
   ],
   "source": [
    "yelp.cache"
   ]
  },
  {
   "cell_type": "code",
   "execution_count": 5,
   "id": "e8b6b5f8",
   "metadata": {},
   "outputs": [
    {
     "data": {
      "text/html": [
       "<div>\n",
       "<style scoped>\n",
       "    .dataframe tbody tr th:only-of-type {\n",
       "        vertical-align: middle;\n",
       "    }\n",
       "\n",
       "    .dataframe tbody tr th {\n",
       "        vertical-align: top;\n",
       "    }\n",
       "\n",
       "    .dataframe thead th {\n",
       "        text-align: right;\n",
       "    }\n",
       "</style>\n",
       "<table border=\"1\" class=\"dataframe\">\n",
       "  <thead>\n",
       "    <tr style=\"text-align: right;\">\n",
       "      <th></th>\n",
       "      <th>id</th>\n",
       "      <th>name</th>\n",
       "      <th>url</th>\n",
       "      <th>review_count</th>\n",
       "      <th>rating</th>\n",
       "      <th>price</th>\n",
       "      <th>latitude</th>\n",
       "      <th>longitude</th>\n",
       "      <th>category</th>\n",
       "    </tr>\n",
       "  </thead>\n",
       "  <tbody>\n",
       "    <tr>\n",
       "      <th>0</th>\n",
       "      <td>KuXwwhGwBNrY0E_5-4ZLOA</td>\n",
       "      <td>Efem</td>\n",
       "      <td>https://www.yelp.com/biz/efem-amsterdam-2?adju...</td>\n",
       "      <td>3</td>\n",
       "      <td>4.5</td>\n",
       "      <td>NaN</td>\n",
       "      <td>52.349856</td>\n",
       "      <td>4.840118</td>\n",
       "      <td>food</td>\n",
       "    </tr>\n",
       "    <tr>\n",
       "      <th>1</th>\n",
       "      <td>sEcgYf8QG5WT60q6x8iUnw</td>\n",
       "      <td>Croissanterie Eifeltoren</td>\n",
       "      <td>https://www.yelp.com/biz/croissanterie-eifelto...</td>\n",
       "      <td>3</td>\n",
       "      <td>4.5</td>\n",
       "      <td>€</td>\n",
       "      <td>52.351720</td>\n",
       "      <td>4.847780</td>\n",
       "      <td>food</td>\n",
       "    </tr>\n",
       "    <tr>\n",
       "      <th>2</th>\n",
       "      <td>PhdbstK_cxSC8ng7mnAUCw</td>\n",
       "      <td>Mr.Greens</td>\n",
       "      <td>https://www.yelp.com/biz/mr-greens-amsterdam?a...</td>\n",
       "      <td>1</td>\n",
       "      <td>5.0</td>\n",
       "      <td>NaN</td>\n",
       "      <td>52.356540</td>\n",
       "      <td>4.837940</td>\n",
       "      <td>food</td>\n",
       "    </tr>\n",
       "    <tr>\n",
       "      <th>3</th>\n",
       "      <td>yCj5mH5yhCce2cEZTGDO6w</td>\n",
       "      <td>Kader Market</td>\n",
       "      <td>https://www.yelp.com/biz/kader-market-amsterda...</td>\n",
       "      <td>2</td>\n",
       "      <td>3.5</td>\n",
       "      <td>€€</td>\n",
       "      <td>52.351465</td>\n",
       "      <td>4.848660</td>\n",
       "      <td>food</td>\n",
       "    </tr>\n",
       "    <tr>\n",
       "      <th>4</th>\n",
       "      <td>mNzlN629-Nh_b7lGt_MIhQ</td>\n",
       "      <td>Albert Heijn</td>\n",
       "      <td>https://www.yelp.com/biz/albert-heijn-amsterda...</td>\n",
       "      <td>2</td>\n",
       "      <td>2.5</td>\n",
       "      <td>NaN</td>\n",
       "      <td>52.348960</td>\n",
       "      <td>4.840290</td>\n",
       "      <td>food</td>\n",
       "    </tr>\n",
       "    <tr>\n",
       "      <th>...</th>\n",
       "      <td>...</td>\n",
       "      <td>...</td>\n",
       "      <td>...</td>\n",
       "      <td>...</td>\n",
       "      <td>...</td>\n",
       "      <td>...</td>\n",
       "      <td>...</td>\n",
       "      <td>...</td>\n",
       "      <td>...</td>\n",
       "    </tr>\n",
       "    <tr>\n",
       "      <th>0</th>\n",
       "      <td>pmG3H6plAPMN0P6FrYoVKA</td>\n",
       "      <td>Hockeyvereniging Myra</td>\n",
       "      <td>https://www.yelp.com/biz/hockeyvereniging-myra...</td>\n",
       "      <td>1</td>\n",
       "      <td>4.0</td>\n",
       "      <td>NaN</td>\n",
       "      <td>52.288664</td>\n",
       "      <td>4.855417</td>\n",
       "      <td>active</td>\n",
       "    </tr>\n",
       "    <tr>\n",
       "      <th>0</th>\n",
       "      <td>XIIQ2Yler9-jBE9znlCsxA</td>\n",
       "      <td>Pieter Bas Kapsalons</td>\n",
       "      <td>https://www.yelp.com/biz/pieter-bas-kapsalons-...</td>\n",
       "      <td>1</td>\n",
       "      <td>1.0</td>\n",
       "      <td>€</td>\n",
       "      <td>52.292751</td>\n",
       "      <td>4.855130</td>\n",
       "      <td>beautysvc</td>\n",
       "    </tr>\n",
       "    <tr>\n",
       "      <th>0</th>\n",
       "      <td>N0P-MQng-34h1yIUbiOJAQ</td>\n",
       "      <td>De Kazerie</td>\n",
       "      <td>https://www.yelp.com/biz/de-kazerie-amstelveen...</td>\n",
       "      <td>2</td>\n",
       "      <td>5.0</td>\n",
       "      <td>NaN</td>\n",
       "      <td>52.292270</td>\n",
       "      <td>4.855030</td>\n",
       "      <td>food</td>\n",
       "    </tr>\n",
       "    <tr>\n",
       "      <th>1</th>\n",
       "      <td>2FV11svlCuz4NvdUwoV2sw</td>\n",
       "      <td>Patagonias</td>\n",
       "      <td>https://www.yelp.com/biz/patagonias-amstelveen...</td>\n",
       "      <td>2</td>\n",
       "      <td>5.0</td>\n",
       "      <td>€</td>\n",
       "      <td>52.296010</td>\n",
       "      <td>4.862770</td>\n",
       "      <td>food</td>\n",
       "    </tr>\n",
       "    <tr>\n",
       "      <th>2</th>\n",
       "      <td>72xSsGSoaGzKyDWB4nOzoA</td>\n",
       "      <td>Volendammer visspecialist</td>\n",
       "      <td>https://www.yelp.com/biz/volendammer-visspecia...</td>\n",
       "      <td>2</td>\n",
       "      <td>4.5</td>\n",
       "      <td>€€</td>\n",
       "      <td>52.292130</td>\n",
       "      <td>4.854310</td>\n",
       "      <td>food</td>\n",
       "    </tr>\n",
       "  </tbody>\n",
       "</table>\n",
       "<p>12302 rows × 9 columns</p>\n",
       "</div>"
      ],
      "text/plain": [
       "                        id                       name  \\\n",
       "0   KuXwwhGwBNrY0E_5-4ZLOA                       Efem   \n",
       "1   sEcgYf8QG5WT60q6x8iUnw   Croissanterie Eifeltoren   \n",
       "2   PhdbstK_cxSC8ng7mnAUCw                  Mr.Greens   \n",
       "3   yCj5mH5yhCce2cEZTGDO6w               Kader Market   \n",
       "4   mNzlN629-Nh_b7lGt_MIhQ               Albert Heijn   \n",
       "..                     ...                        ...   \n",
       "0   pmG3H6plAPMN0P6FrYoVKA      Hockeyvereniging Myra   \n",
       "0   XIIQ2Yler9-jBE9znlCsxA       Pieter Bas Kapsalons   \n",
       "0   N0P-MQng-34h1yIUbiOJAQ                 De Kazerie   \n",
       "1   2FV11svlCuz4NvdUwoV2sw                 Patagonias   \n",
       "2   72xSsGSoaGzKyDWB4nOzoA  Volendammer visspecialist   \n",
       "\n",
       "                                                  url  review_count  rating  \\\n",
       "0   https://www.yelp.com/biz/efem-amsterdam-2?adju...             3     4.5   \n",
       "1   https://www.yelp.com/biz/croissanterie-eifelto...             3     4.5   \n",
       "2   https://www.yelp.com/biz/mr-greens-amsterdam?a...             1     5.0   \n",
       "3   https://www.yelp.com/biz/kader-market-amsterda...             2     3.5   \n",
       "4   https://www.yelp.com/biz/albert-heijn-amsterda...             2     2.5   \n",
       "..                                                ...           ...     ...   \n",
       "0   https://www.yelp.com/biz/hockeyvereniging-myra...             1     4.0   \n",
       "0   https://www.yelp.com/biz/pieter-bas-kapsalons-...             1     1.0   \n",
       "0   https://www.yelp.com/biz/de-kazerie-amstelveen...             2     5.0   \n",
       "1   https://www.yelp.com/biz/patagonias-amstelveen...             2     5.0   \n",
       "2   https://www.yelp.com/biz/volendammer-visspecia...             2     4.5   \n",
       "\n",
       "   price   latitude  longitude   category  \n",
       "0    NaN  52.349856   4.840118       food  \n",
       "1      €  52.351720   4.847780       food  \n",
       "2    NaN  52.356540   4.837940       food  \n",
       "3     €€  52.351465   4.848660       food  \n",
       "4    NaN  52.348960   4.840290       food  \n",
       "..   ...        ...        ...        ...  \n",
       "0    NaN  52.288664   4.855417     active  \n",
       "0      €  52.292751   4.855130  beautysvc  \n",
       "0    NaN  52.292270   4.855030       food  \n",
       "1      €  52.296010   4.862770       food  \n",
       "2     €€  52.292130   4.854310       food  \n",
       "\n",
       "[12302 rows x 9 columns]"
      ]
     },
     "execution_count": 5,
     "metadata": {},
     "output_type": "execute_result"
    }
   ],
   "source": [
    "yelp.new_bus"
   ]
  },
  {
   "cell_type": "code",
   "execution_count": 7,
   "id": "7829cb10",
   "metadata": {},
   "outputs": [],
   "source": [
    "x = len(yelp.known_bus)"
   ]
  },
  {
   "cell_type": "code",
   "execution_count": 8,
   "id": "018c4b5f",
   "metadata": {},
   "outputs": [],
   "source": [
    "yelp.save_new_bus()"
   ]
  },
  {
   "cell_type": "code",
   "execution_count": 9,
   "id": "a73a80e9",
   "metadata": {},
   "outputs": [],
   "source": [
    "y = len(yelp.known_bus)"
   ]
  },
  {
   "cell_type": "code",
   "execution_count": 10,
   "id": "1ace5224",
   "metadata": {},
   "outputs": [
    {
     "data": {
      "text/plain": [
       "47"
      ]
     },
     "execution_count": 10,
     "metadata": {},
     "output_type": "execute_result"
    }
   ],
   "source": [
    "y-x"
   ]
  },
  {
   "cell_type": "code",
   "execution_count": null,
   "id": "e628eee2",
   "metadata": {},
   "outputs": [],
   "source": []
  }
 ],
 "metadata": {
  "kernelspec": {
   "display_name": "Python 3 (ipykernel)",
   "language": "python",
   "name": "python3"
  },
  "language_info": {
   "codemirror_mode": {
    "name": "ipython",
    "version": 3
   },
   "file_extension": ".py",
   "mimetype": "text/x-python",
   "name": "python",
   "nbconvert_exporter": "python",
   "pygments_lexer": "ipython3",
   "version": "3.10.5"
  }
 },
 "nbformat": 4,
 "nbformat_minor": 5
}
