{
 "cells": [
  {
   "cell_type": "code",
   "execution_count": 21,
   "id": "292cfb47",
   "metadata": {},
   "outputs": [],
   "source": [
    "import re"
   ]
  },
  {
   "cell_type": "code",
   "execution_count": 30,
   "id": "328b10bf",
   "metadata": {},
   "outputs": [],
   "source": [
    "price_text = \"€ 1,695 - 2.100 per month\""
   ]
  },
  {
   "cell_type": "code",
   "execution_count": 46,
   "id": "6d1f56ed",
   "metadata": {},
   "outputs": [],
   "source": [
    "price_text = '€ 1,695 per month'"
   ]
  },
  {
   "cell_type": "code",
   "execution_count": 29,
   "id": "6002196b",
   "metadata": {},
   "outputs": [
    {
     "data": {
      "text/plain": [
       "True"
      ]
     },
     "execution_count": 29,
     "metadata": {},
     "output_type": "execute_result"
    }
   ],
   "source": [
    "pattern = r'.*\\d[\\d.,]*\\s*-\\s*\\d[\\d.,]*.*'\n",
    "bool(re.match(pattern, price_text))"
   ]
  },
  {
   "cell_type": "code",
   "execution_count": 50,
   "id": "006cb3ca",
   "metadata": {},
   "outputs": [],
   "source": [
    "def process_price(price_text):\n",
    "        pattern = r'.*\\d[\\d.,]*\\s*-\\s*\\d[\\d.,]*.*' # price range pattern\n",
    "        price_text = price_text.replace('€','')\n",
    "        if bool(re.match(pattern, price_text)):\n",
    "            num1str = re.sub(r'[^\\d]', '', price_text.split('-')[0])\n",
    "            num2str = re.sub(r'[^\\d]', '', price_text.split('-')[1])\n",
    "            num1 = int(num1str)\n",
    "            num2 = int(num2str)\n",
    "            price = int((num1+num2)/2)\n",
    "            price_type = ' '.join(price_text.replace('.','')\n",
    "                                  .replace(',','')\n",
    "                                  .replace(num1str,'')\n",
    "                                  .replace(num2str,'')\n",
    "                                  .strip()\n",
    "                                  .split(' ')[1:]).strip()\n",
    "        else:\n",
    "            price = int(re.sub(r'[^\\d]', '', price_text))\n",
    "            price_type = ' '.join(price_text.strip().split(' ')[1:])\n",
    "        return price, price_type     "
   ]
  },
  {
   "cell_type": "code",
   "execution_count": 51,
   "id": "3de44e4f",
   "metadata": {},
   "outputs": [
    {
     "data": {
      "text/plain": [
       "(1897, 'per month')"
      ]
     },
     "execution_count": 51,
     "metadata": {},
     "output_type": "execute_result"
    }
   ],
   "source": [
    "process_price('  €1,695 - 2.100 per month')"
   ]
  },
  {
   "cell_type": "code",
   "execution_count": 42,
   "id": "065c9693",
   "metadata": {},
   "outputs": [
    {
     "data": {
      "text/plain": [
       "'per month'"
      ]
     },
     "execution_count": 42,
     "metadata": {},
     "output_type": "execute_result"
    }
   ],
   "source": [
    "price_type"
   ]
  },
  {
   "cell_type": "code",
   "execution_count": 43,
   "id": "47defc02",
   "metadata": {},
   "outputs": [
    {
     "data": {
      "text/plain": [
       "'2100'"
      ]
     },
     "execution_count": 43,
     "metadata": {},
     "output_type": "execute_result"
    }
   ],
   "source": [
    "num2str"
   ]
  },
  {
   "cell_type": "code",
   "execution_count": null,
   "id": "d7cfcd59",
   "metadata": {},
   "outputs": [],
   "source": []
  }
 ],
 "metadata": {
  "kernelspec": {
   "display_name": "Python 3 (ipykernel)",
   "language": "python",
   "name": "python3"
  },
  "language_info": {
   "codemirror_mode": {
    "name": "ipython",
    "version": 3
   },
   "file_extension": ".py",
   "mimetype": "text/x-python",
   "name": "python",
   "nbconvert_exporter": "python",
   "pygments_lexer": "ipython3",
   "version": "3.10.9"
  }
 },
 "nbformat": 4,
 "nbformat_minor": 5
}
